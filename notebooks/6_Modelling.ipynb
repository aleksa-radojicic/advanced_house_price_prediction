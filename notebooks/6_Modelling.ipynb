{
 "cells": [
  {
   "cell_type": "code",
   "execution_count": 1,
   "metadata": {},
   "outputs": [],
   "source": [
    "%cd -q '../'\n",
    "\n",
    "# %pwd"
   ]
  },
  {
   "cell_type": "code",
   "execution_count": 2,
   "metadata": {},
   "outputs": [],
   "source": [
    "import pickle\n",
    "# reload(hp)\n",
    "from importlib import reload\n",
    "\n",
    "import numpy as np\n",
    "import pandas as pd\n",
    "import xgboost as xgb\n",
    "from sklearn.dummy import DummyRegressor\n",
    "from sklearn.compose import ColumnTransformer\n",
    "from sklearn.ensemble import AdaBoostRegressor, RandomForestRegressor\n",
    "from sklearn.linear_model import Ridge\n",
    "from sklearn.metrics import mean_squared_error\n",
    "# reload(src.config);\n",
    "from sklearn.neighbors import KNeighborsRegressor\n",
    "from sklearn.pipeline import Pipeline\n",
    "from sklearn.preprocessing import (MinMaxScaler, OneHotEncoder, OrdinalEncoder,\n",
    "                                   RobustScaler, StandardScaler)\n",
    "from sklearn.svm import SVR\n",
    "from sklearn.tree import DecisionTreeRegressor\n",
    "\n",
    "from notebooks.config import *\n",
    "\n",
    "# %matplotlib inline"
   ]
  },
  {
   "cell_type": "markdown",
   "metadata": {},
   "source": [
    "## Loading intermediary files from artifacts"
   ]
  },
  {
   "cell_type": "code",
   "execution_count": 3,
   "metadata": {},
   "outputs": [],
   "source": [
    "stage_name = \"4_PostFEAnalysis\"\n",
    "\n",
    "with open(\n",
    "    file=f\"notebooks/artifacts/{stage_name}_features_info.pkl\", mode=\"rb\"\n",
    ") as f_write:\n",
    "    features_info = pickle.load(f_write)\n",
    "\n",
    "with open(\n",
    "    file=f\"notebooks/artifacts/{stage_name}_df_train.pkl\", mode=\"rb\"\n",
    ") as f_write:\n",
    "    df_train = pickle.load(f_write)\n",
    "\n",
    "with open(\n",
    "    file=f\"notebooks/artifacts/{stage_name}_df_test.pkl\", mode=\"rb\"\n",
    ") as f_write:\n",
    "    df_test = pickle.load(f_write)\n",
    "\n",
    "del stage_name"
   ]
  },
  {
   "cell_type": "code",
   "execution_count": 19,
   "metadata": {
    "tags": [
     "refactor"
    ]
   },
   "outputs": [
    {
     "name": "stdout",
     "output_type": "stream",
     "text": [
      "logreg: 0.1596607105381587\n",
      "svr: 0.1930583234773488\n",
      "knn: 0.2046587647626333\n",
      "dt: 0.20878217440215482\n",
      "ada: 0.16506949571123777\n",
      "rf: 0.1532684484106143\n",
      "xgb: 0.15700231955766428\n"
     ]
    }
   ],
   "source": [
    "X_train = df_train.drop(LABEL, axis=1)\n",
    "X_test = df_test.drop(LABEL, axis=1)\n",
    "\n",
    "y_train = np.log1p(df_train[LABEL])\n",
    "y_test = np.log1p(df_test[LABEL])\n",
    "\n",
    "ct = ColumnTransformer(\n",
    "        [\n",
    "            # (\"numerical\", MinMaxScaler(), features_info[\"numerical\"]),\n",
    "            (\"numerical\", \"passthrough\", features_info[\"numerical\"]),\n",
    "            # (\"numerical\", RobustScaler(), make_column_selector(\"numerical__\")),\n",
    "            (\"binary\", OrdinalEncoder(handle_unknown='use_encoded_value', unknown_value=-1), features_info['binary']),\n",
    "            # (\"binary\", OrdinalEncoder(handle_unknown='use_encoded_value', unknown_value=-1), make_column_selector(pattern='binary__')),\n",
    "            (\"ordinal\", OrdinalEncoder(handle_unknown='use_encoded_value', unknown_value=-1), features_info[\"ordinal\"]),\n",
    "            # (\"ordinal\", OrdinalEncoder(handle_unknown='use_encoded_value', unknown_value=-1), make_column_selector(pattern='ordinal__')),\n",
    "            (\"nominal\", OrdinalEncoder(handle_unknown='use_encoded_value', unknown_value=-1, dtype=np.int16), features_info[\"nominal\"])\n",
    "            # (\"nominal\", OneHotEncoder(handle_unknown='ignore', dtype=np.int8, sparse_output=False), features_info[\"nominal\"])\n",
    "        ],\n",
    "        remainder=\"drop\",\n",
    "        verbose_feature_names_out=False # False because prefixes are added manually\n",
    "    ).set_output(transform=\"pandas\")\n",
    "\n",
    "rf_classifier = RandomForestRegressor(n_jobs=-1, random_state=RANDOM_SEED)\n",
    "rf_classifier.estimator_ = DecisionTreeRegressor(random_state=RANDOM_SEED)\n",
    "\n",
    "for model_name, classif in {\n",
    "    \"dummy_mean\": DummyRegressor(strategy=\"mean\"),\n",
    "    \"dummy_median\": DummyRegressor(strategy=\"median\"),\n",
    "    \"ridge\": Ridge(random_state=RANDOM_SEED), \n",
    "    \"svr\": SVR(), \n",
    "    \"knn\": KNeighborsRegressor(n_jobs=-1), \n",
    "    \"dt\": DecisionTreeRegressor(random_state=RANDOM_SEED), \n",
    "    \"ada\": AdaBoostRegressor(random_state=RANDOM_SEED), \n",
    "    \"rf\": rf_classifier,\n",
    "    \"xgb\": xgb.XGBRegressor()\n",
    "}.items():\n",
    "    pipe = Pipeline([\n",
    "        (\"ct\", ct),\n",
    "        ('classifier', classif)\n",
    "    ])\n",
    "\n",
    "    pipe.fit(X_train, y_train)\n",
    "\n",
    "    y_pred_linreg = pipe.predict(X_test).reshape(-1, 1)\n",
    "    y_pred_linreg_exp = np.expm1(y_pred_linreg)\n",
    "\n",
    "    print(f\"{model_name}: {np.sqrt(mean_squared_error(y_test, y_pred_linreg))}\")"
   ]
  }
 ],
 "metadata": {
  "kernelspec": {
   "display_name": "base",
   "language": "python",
   "name": "python3"
  },
  "language_info": {
   "codemirror_mode": {
    "name": "ipython",
    "version": 3
   },
   "file_extension": ".py",
   "mimetype": "text/x-python",
   "name": "python",
   "nbconvert_exporter": "python",
   "pygments_lexer": "ipython3",
   "version": "3.10.12"
  },
  "orig_nbformat": 4
 },
 "nbformat": 4,
 "nbformat_minor": 2
}
