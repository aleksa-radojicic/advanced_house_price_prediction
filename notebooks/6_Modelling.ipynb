{
 "cells": [
  {
   "cell_type": "code",
   "execution_count": 1,
   "metadata": {},
   "outputs": [
    {
     "name": "stdout",
     "output_type": "stream",
     "text": [
      "/home/aleksa/Documents/Машинско учење/advanced_house_price_prediction\n"
     ]
    }
   ],
   "source": [
    "%cd '../'\n",
    "\n",
    "# %pwd"
   ]
  },
  {
   "cell_type": "code",
   "execution_count": 2,
   "metadata": {},
   "outputs": [],
   "source": [
    "import pickle\n",
    "# reload(hp)\n",
    "from importlib import reload\n",
    "\n",
    "import numpy as np\n",
    "import pandas as pd\n",
    "import xgboost as xgb\n",
    "from sklearn.compose import ColumnTransformer\n",
    "from sklearn.ensemble import AdaBoostRegressor, RandomForestRegressor\n",
    "from sklearn.linear_model import Ridge\n",
    "from sklearn.metrics import mean_squared_error\n",
    "# reload(src.config);\n",
    "from sklearn.neighbors import KNeighborsRegressor\n",
    "from sklearn.pipeline import Pipeline\n",
    "from sklearn.preprocessing import (MinMaxScaler, OneHotEncoder, OrdinalEncoder,\n",
    "                                   RobustScaler, StandardScaler)\n",
    "from sklearn.svm import SVR\n",
    "from sklearn.tree import DecisionTreeRegressor\n",
    "\n",
    "from src.config import *\n",
    "\n",
    "# %matplotlib inline"
   ]
  },
  {
   "cell_type": "markdown",
   "metadata": {},
   "source": [
    "## Loading intermediary files from artifacts"
   ]
  },
  {
   "cell_type": "code",
   "execution_count": 3,
   "metadata": {},
   "outputs": [],
   "source": [
    "stage_name = \"4_PostFEAnalysis\"\n",
    "\n",
    "with open(\n",
    "    file=f\"notebooks/artifacts/{stage_name}_features_info.pkl\", mode=\"rb\"\n",
    ") as f_write:\n",
    "    features_info = pickle.load(f_write)\n",
    "\n",
    "with open(\n",
    "    file=f\"notebooks/artifacts/{stage_name}_df_train.pkl\", mode=\"rb\"\n",
    ") as f_write:\n",
    "    df_train = pickle.load(f_write)\n",
    "\n",
    "with open(\n",
    "    file=f\"notebooks/artifacts/{stage_name}_df_test.pkl\", mode=\"rb\"\n",
    ") as f_write:\n",
    "    df_test = pickle.load(f_write)\n",
    "\n",
    "del stage_name"
   ]
  },
  {
   "cell_type": "code",
   "execution_count": 4,
   "metadata": {},
   "outputs": [
    {
     "name": "stdout",
     "output_type": "stream",
     "text": [
      "logreg: 0.1009255735489849\n",
      "svr: 0.1240088016571375\n",
      "knn: 0.19275133367970956\n",
      "dt: 1.2737095633889246e-16\n",
      "ada: 0.13900606116909228\n",
      "rf: 0.05328150573875853\n",
      "xgb: 0.004243197244979826\n"
     ]
    }
   ],
   "source": [
    "X_train = df_train.drop(LABEL, axis=1)\n",
    "X_test = df_test.drop(LABEL, axis=1)\n",
    "\n",
    "y_train = np.log1p(df_train[LABEL])\n",
    "y_test = np.log1p(df_test[LABEL])\n",
    "\n",
    "ct = ColumnTransformer(\n",
    "        [\n",
    "            (\"numerical\", MinMaxScaler(), features_info[\"numerical\"]),\n",
    "            # (\"numerical\", RobustScaler(), make_column_selector(\"numerical__\")),\n",
    "            (\"binary\", OrdinalEncoder(handle_unknown='use_encoded_value', unknown_value=-1), features_info['binary']),\n",
    "            # (\"binary\", OrdinalEncoder(handle_unknown='use_encoded_value', unknown_value=-1), make_column_selector(pattern='binary__')),\n",
    "            (\"ordinal\", OrdinalEncoder(handle_unknown='use_encoded_value', unknown_value=-1), features_info[\"ordinal\"]),\n",
    "            # (\"ordinal\", OrdinalEncoder(handle_unknown='use_encoded_value', unknown_value=-1), make_column_selector(pattern='ordinal__')),\n",
    "            # (\"nominal\", OrdinalEncoder(handle_unknown='use_encoded_value', unknown_value=-1, dtype=np.int16), make_column_selector(pattern='nominal__'))\n",
    "            (\"nominal\", OneHotEncoder(handle_unknown='ignore', dtype=np.int8, sparse_output=False), features_info[\"nominal\"])\n",
    "        ],\n",
    "        remainder=\"drop\",\n",
    "        verbose_feature_names_out=False # False because prefixes are added manually\n",
    "    ).set_output(transform=\"pandas\")\n",
    "\n",
    "for model_name, classif in {\n",
    "    \"logreg\": Ridge(random_state=RANDOM_SEED), \n",
    "    \"svr\": SVR(), \n",
    "    \"knn\": KNeighborsRegressor(n_jobs=-1), \n",
    "    \"dt\": DecisionTreeRegressor(random_state=RANDOM_SEED), \n",
    "    \"ada\": AdaBoostRegressor(random_state=RANDOM_SEED), \n",
    "    \"rf\": RandomForestRegressor(n_jobs=-1, random_state=RANDOM_SEED),\n",
    "    \"xgb\": xgb.XGBRegressor()\n",
    "}.items():\n",
    "    pipe = Pipeline([\n",
    "        (\"ct\", ct),\n",
    "        ('classifier', classif)\n",
    "    ])\n",
    "\n",
    "    pipe.fit(X_train, y_train)\n",
    "\n",
    "    y_pred_linreg = pipe.predict(X_test).reshape(-1, 1)\n",
    "    y_pred_linreg_exp = np.expm1(y_pred_linreg)\n",
    "\n",
    "    print(f\"{model_name}: {np.sqrt(mean_squared_error(y_test, y_pred_linreg))}\")"
   ]
  }
 ],
 "metadata": {
  "kernelspec": {
   "display_name": "base",
   "language": "python",
   "name": "python3"
  },
  "language_info": {
   "codemirror_mode": {
    "name": "ipython",
    "version": 3
   },
   "file_extension": ".py",
   "mimetype": "text/x-python",
   "name": "python",
   "nbconvert_exporter": "python",
   "pygments_lexer": "ipython3",
   "version": "3.10.12"
  },
  "orig_nbformat": 4
 },
 "nbformat": 4,
 "nbformat_minor": 2
}
