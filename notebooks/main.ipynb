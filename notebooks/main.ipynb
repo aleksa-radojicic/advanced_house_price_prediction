{
 "cells": [
  {
   "cell_type": "code",
   "execution_count": 1,
   "metadata": {},
   "outputs": [],
   "source": [
    "import papermill as pm"
   ]
  },
  {
   "cell_type": "code",
   "execution_count": 8,
   "metadata": {},
   "outputs": [],
   "source": [
    "def execute_notebook_script(input_path: str, output_path: str) -> None:\n",
    "    \"\"\"\n",
    "    Executes parametrized .ipynb notebook and creates output in another directory of the results.\n",
    "    \n",
    "    Parameters:\n",
    "        input_path (str): Input path of script that is going to be executed.\n",
    "        output_path (str): Output path where output notebooks will be generated.\n",
    "    Returns:\n",
    "        None\n",
    "    \"\"\"\n",
    "    \n",
    "    try:\n",
    "        pm.execute_notebook(input_path=input_path, \n",
    "                            output_path=output_path,\n",
    "                            # output_path=output_path + input_path.split('/')[1].removesuffix('.ipynb') + f'_{dataset}.ipynb', \n",
    "                            parameters={},\n",
    "                            metadata={})\n",
    "    except Exception as e:\n",
    "        raise e\n",
    "    # Display message if no exception was raised\n",
    "    else:\n",
    "        print(\"Notebook executed successfully!\")"
   ]
  },
  {
   "cell_type": "code",
   "execution_count": 9,
   "metadata": {},
   "outputs": [
    {
     "name": "stdout",
     "output_type": "stream",
     "text": [
      "Executing 1_UnivariateAnalysis\n"
     ]
    },
    {
     "name": "stderr",
     "output_type": "stream",
     "text": [
      "Executing:   0%|          | 0/100 [00:00<?, ?cell/s]"
     ]
    },
    {
     "name": "stderr",
     "output_type": "stream",
     "text": [
      "Executing: 100%|██████████| 100/100 [00:32<00:00,  3.06cell/s]\n"
     ]
    },
    {
     "name": "stdout",
     "output_type": "stream",
     "text": [
      "Notebook executed successfully!\n",
      "Executing 2_MultivariateAnalysis\n"
     ]
    },
    {
     "name": "stderr",
     "output_type": "stream",
     "text": [
      "Executing: 100%|██████████| 44/44 [00:13<00:00,  3.32cell/s]\n"
     ]
    },
    {
     "name": "stdout",
     "output_type": "stream",
     "text": [
      "Notebook executed successfully!\n",
      "Executing 3_FeatureEngineering\n"
     ]
    },
    {
     "name": "stderr",
     "output_type": "stream",
     "text": [
      "Executing: 100%|██████████| 12/12 [00:14<00:00,  1.23s/cell]\n"
     ]
    },
    {
     "name": "stdout",
     "output_type": "stream",
     "text": [
      "Notebook executed successfully!\n",
      "Executing 4_PostFEAnalysis\n"
     ]
    },
    {
     "name": "stderr",
     "output_type": "stream",
     "text": [
      "Executing: 100%|██████████| 34/34 [00:08<00:00,  3.85cell/s]\n"
     ]
    },
    {
     "name": "stdout",
     "output_type": "stream",
     "text": [
      "Notebook executed successfully!\n",
      "Executing 5_FeatureSelection\n"
     ]
    },
    {
     "name": "stderr",
     "output_type": "stream",
     "text": [
      "Executing: 100%|██████████| 1/1 [00:01<00:00,  1.34s/cell]\n"
     ]
    },
    {
     "name": "stdout",
     "output_type": "stream",
     "text": [
      "Notebook executed successfully!\n",
      "Executing 6_Modelling\n"
     ]
    },
    {
     "name": "stderr",
     "output_type": "stream",
     "text": [
      "Executing: 100%|██████████| 5/5 [00:07<00:00,  1.45s/cell]"
     ]
    },
    {
     "name": "stdout",
     "output_type": "stream",
     "text": [
      "Notebook executed successfully!\n"
     ]
    },
    {
     "name": "stderr",
     "output_type": "stream",
     "text": [
      "\n"
     ]
    }
   ],
   "source": [
    "scripts_to_execute = [\n",
    "    \"1_UnivariateAnalysis\",\n",
    "    \"2_MultivariateAnalysis\",\n",
    "    \"3_FeatureEngineering\",\n",
    "    \"4_PostFEAnalysis\",\n",
    "    \"5_FeatureSelection\",\n",
    "    \"6_Modelling\",\n",
    "]\n",
    "\n",
    "for script in scripts_to_execute:\n",
    "    print(f\"Executing {script}\")\n",
    "    execute_notebook_script(f\"{script}.ipynb\", f\"{script}.ipynb\")"
   ]
  }
 ],
 "metadata": {
  "kernelspec": {
   "display_name": "Python 3",
   "language": "python",
   "name": "python3"
  },
  "language_info": {
   "codemirror_mode": {
    "name": "ipython",
    "version": 3
   },
   "file_extension": ".py",
   "mimetype": "text/x-python",
   "name": "python",
   "nbconvert_exporter": "python",
   "pygments_lexer": "ipython3",
   "version": "3.10.12"
  }
 },
 "nbformat": 4,
 "nbformat_minor": 2
}
